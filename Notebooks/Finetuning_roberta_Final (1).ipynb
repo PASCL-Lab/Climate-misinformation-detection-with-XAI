{
  "cells": [
    {
      "cell_type": "markdown",
      "source": [
        "## Data"
      ],
      "metadata": {
        "id": "M640qhGXiPkR"
      }
    },
    {
      "cell_type": "code",
      "source": [
        "import pandas as pd\n",
        "import numpy as np\n",
        "import matplotlib.pyplot as plt\n",
        "import seaborn as sns\n",
        "from collections import Counter\n",
        "from sklearn.model_selection import train_test_split\n",
        "from sklearn.metrics import classification_report, confusion_matrix, accuracy_score\n",
        "import torch\n",
        "from torch.utils.data import Dataset, DataLoader\n",
        "from transformers import (\n",
        "    AutoTokenizer,\n",
        "    AutoModelForSequenceClassification,\n",
        "    TrainingArguments,\n",
        "    Trainer,\n",
        "    EarlyStoppingCallback\n",
        ")\n",
        "from datasets import Dataset as HFDataset\n",
        "import warnings\n",
        "warnings.filterwarnings('ignore')\n"
      ],
      "metadata": {
        "id": "6OMNfa-kipCT"
      },
      "execution_count": null,
      "outputs": []
    },
    {
      "cell_type": "code",
      "source": [
        "device = torch.device('cuda' if torch.cuda.is_available() else 'cpu')\n",
        "print(f\"Using device: {device}\")"
      ],
      "metadata": {
        "colab": {
          "base_uri": "https://localhost:8080/"
        },
        "id": "8T5YUmncivHq",
        "outputId": "3d761eec-e186-4547-d684-0753cecb0899"
      },
      "execution_count": null,
      "outputs": [
        {
          "output_type": "stream",
          "name": "stdout",
          "text": [
            "Using device: cuda\n"
          ]
        }
      ]
    },
    {
      "cell_type": "code",
      "source": [
        "import random\n",
        "import os\n",
        "\n",
        "def set_seed(seed=42):\n",
        "    \"\"\"\n",
        "    Set seeds for reproducible results across different libraries\n",
        "    \"\"\"\n",
        "    # Python random seed\n",
        "    random.seed(seed)\n",
        "\n",
        "    # NumPy random seed\n",
        "    np.random.seed(seed)\n",
        "\n",
        "    # PyTorch random seed\n",
        "    torch.manual_seed(seed)\n",
        "\n",
        "    # CUDA random seed (for GPU)\n",
        "    if torch.cuda.is_available():\n",
        "        torch.cuda.manual_seed(seed)\n",
        "        torch.cuda.manual_seed_all(seed)  # For multi-GPU setups\n",
        "\n",
        "        # Additional CUDA settings for reproducibility\n",
        "        torch.backends.cudnn.deterministic = True\n",
        "        torch.backends.cudnn.benchmark = False\n",
        "\n",
        "    # Environment variable for Python hash seed\n",
        "    os.environ['PYTHONHASHSEED'] = str(seed)\n",
        "\n",
        "# Usage\n",
        "set_seed(42)"
      ],
      "metadata": {
        "id": "pn_yaEaWXkYi"
      },
      "execution_count": null,
      "outputs": []
    },
    {
      "cell_type": "code",
      "source": [
        "def load_and_explore_data(file_path):\n",
        "    \"\"\"\n",
        "    Load the dataset and perform initial exploration\n",
        "    Expected format: CSV with columns 'sentence' and 'label'\n",
        "    Labels should be: 'support', 'refute', 'not enough information'\n",
        "    \"\"\"\n",
        "\n",
        "    # Load the dataset\n",
        "    df = pd.read_csv(file_path)\n",
        "    print(f\"Dataset shape: {df.shape}\")\n",
        "    print(f\"Columns: {df.columns.tolist()}\")\n",
        "    print(\"\\nFirst few rows:\")\n",
        "    print(df.head())\n",
        "\n",
        "    # Check for missing values\n",
        "    print(f\"\\nMissing values:\\n{df.isnull().sum()}\")\n",
        "\n",
        "    # Analyze class distribution\n",
        "    class_counts = df['claims_labels'].value_counts()\n",
        "    print(f\"\\nClass distribution:\")\n",
        "    print(class_counts)\n",
        "    print(f\"\\nClass proportions:\")\n",
        "    print(df['claims_labels'].value_counts(normalize=True))\n",
        "\n",
        "    # Visualize class distribution\n",
        "    plt.figure(figsize=(10, 6))\n",
        "\n",
        "    plt.subplot(1, 2, 1)\n",
        "    class_counts.plot(kind='bar')\n",
        "    plt.title('Class Distribution (Count)')\n",
        "    plt.ylabel('Count')\n",
        "    plt.xticks(rotation=45)\n",
        "\n",
        "    plt.subplot(1, 2, 2)\n",
        "    df['claims_labels'].value_counts(normalize=True).plot(kind='pie', autopct='%1.1f%%')\n",
        "    plt.title('Class Distribution (Percentage)')\n",
        "\n",
        "    plt.tight_layout()\n",
        "    plt.show()\n",
        "\n",
        "    # Text length analysis\n",
        "    df['text_length'] = df['claims'].str.len()\n",
        "    df['word_count'] = df['claims'].str.split().str.len()\n",
        "\n",
        "    print(f\"\\nText statistics:\")\n",
        "    print(df[['text_length', 'word_count']].describe())\n",
        "\n",
        "    plt.figure(figsize=(12, 4))\n",
        "\n",
        "    plt.subplot(1, 2, 1)\n",
        "    df['text_length'].hist(bins=50, alpha=0.7)\n",
        "    plt.title('Distribution of Text Length (characters)')\n",
        "    plt.xlabel('Character count')\n",
        "    plt.ylabel('Frequency')\n",
        "\n",
        "    plt.subplot(1, 2, 2)\n",
        "    df['word_count'].hist(bins=50, alpha=0.7)\n",
        "    plt.title('Distribution of Word Count')\n",
        "    plt.xlabel('Word count')\n",
        "    plt.ylabel('Frequency')\n",
        "\n",
        "    plt.tight_layout()\n",
        "    plt.show()\n",
        "\n",
        "    return df"
      ],
      "metadata": {
        "id": "ln-KujU5i0Tr"
      },
      "execution_count": null,
      "outputs": []
    },
    {
      "cell_type": "code",
      "source": [
        "def check_class_imbalance(df, threshold=0.6):\n",
        "    \"\"\"\n",
        "    Check if dataset has significant class imbalance\n",
        "    \"\"\"\n",
        "    class_proportions = df['claims_labels'].value_counts(normalize=True)\n",
        "    max_proportion = class_proportions.max()\n",
        "\n",
        "    print(f\"Maximum class proportion: {max_proportion:.3f}\")\n",
        "\n",
        "    if max_proportion > threshold:\n",
        "        print(f\"⚠️  Class imbalance detected! Majority class has {max_proportion:.1%} of samples\")\n",
        "        return True\n",
        "    else:\n",
        "        print(\"✅ Classes are relatively balanced\")\n",
        "        return False"
      ],
      "metadata": {
        "id": "Z8uqnjjBi21L"
      },
      "execution_count": null,
      "outputs": []
    },
    {
      "cell_type": "code",
      "source": [
        "# data_file_path = 'cleaned_data_no_special_characters.csv'"
      ],
      "metadata": {
        "id": "Q4iXF2jojBqL"
      },
      "execution_count": null,
      "outputs": []
    },
    {
      "cell_type": "code",
      "source": [
        "# df = load_and_explore_data(data_file_path)"
      ],
      "metadata": {
        "id": "U0b2xrvri_H8"
      },
      "execution_count": null,
      "outputs": []
    },
    {
      "cell_type": "code",
      "source": [
        "# from datasets import load_dataset\n",
        "# import pandas as pd\n",
        "\n",
        "# # 1. Load the dataset\n",
        "# dataset = load_dataset(\"amandakonet/climate_fever_adopted\")\n",
        "\n",
        "# # 2. Convert to pandas DataFrames and keep only required columns\n",
        "# train_df = pd.DataFrame(dataset['train'])[[\"claim\", \"evidence_label\"]].rename(columns={\"claim\": \"claims\", \"evidence_label\": \"claims_labels\"})\n",
        "# val_df = pd.DataFrame(dataset['valid'])[[\"claim\", \"evidence_label\"]].rename(columns={\"claim\": \"claims\", \"evidence_label\": \"claims_labels\"})\n",
        "# test_df = pd.DataFrame(dataset['test'])[[\"claim\", \"evidence_label\"]].rename(columns={\"claim\": \"claims\", \"evidence_label\": \"claims_labels\"})"
      ],
      "metadata": {
        "colab": {
          "base_uri": "https://localhost:8080/"
        },
        "id": "LwFAI-YGT8NS",
        "outputId": "e8ba8e7f-4ab3-476c-b011-4c451b8bb838"
      },
      "execution_count": null,
      "outputs": [
        {
          "output_type": "stream",
          "name": "stderr",
          "text": [
            "Repo card metadata block was not found. Setting CardData to empty.\n",
            "WARNING:huggingface_hub.repocard:Repo card metadata block was not found. Setting CardData to empty.\n"
          ]
        }
      ]
    },
    {
      "cell_type": "code",
      "source": [
        "from datasets import load_dataset\n",
        "import pandas as pd\n",
        "\n",
        "# 1. Load the datasetJasontth/climate_fever_plus\n",
        "dataset = load_dataset(\"Jasontth/climate_fever_plus\")\n",
        "\n",
        "# 2. Convert to pandas DataFrames and keep only required columns\n",
        "train_df = pd.DataFrame(dataset['train'])[[\"claim\", \"evidence_label\"]].rename(columns={\"claim\": \"claims\", \"evidence_label\": \"claims_labels\"})\n",
        "val_df = pd.DataFrame(dataset['valid'])[[\"claim\", \"evidence_label\"]].rename(columns={\"claim\": \"claims\", \"evidence_label\": \"claims_labels\"})\n",
        "test_df = pd.DataFrame(dataset['test'])[[\"claim\", \"evidence_label\"]].rename(columns={\"claim\": \"claims\", \"evidence_label\": \"claims_labels\"})"
      ],
      "metadata": {
        "id": "CVPdTea9yxR-"
      },
      "execution_count": null,
      "outputs": []
    },
    {
      "cell_type": "code",
      "source": [
        "\n",
        "def calculate_class_weights(df):\n",
        "    \"\"\"\n",
        "    Calculate class weights for handling imbalance in loss function\n",
        "    Uses sklearn's balanced approach: n_samples / (n_classes * np.bincount(y))\n",
        "    \"\"\"\n",
        "    from sklearn.utils.class_weight import compute_class_weight\n",
        "\n",
        "    # Get class distribution\n",
        "    class_counts = df['claims_labels'].value_counts()\n",
        "    print(f\"Class distribution:\\n{class_counts}\")\n",
        "    print(f\"Class proportions:\\n{df['claims_labels'].value_counts(normalize=True)}\")\n",
        "\n",
        "    # Calculate class weights\n",
        "    labels = df['claims_labels'].values\n",
        "    unique_labels = sorted(df['claims_labels'].unique())\n",
        "\n",
        "    class_weights = compute_class_weight(\n",
        "        class_weight='balanced',\n",
        "        classes=np.array(unique_labels),\n",
        "        y=labels\n",
        "    )\n",
        "\n",
        "    # Create mapping\n",
        "    class_weight_dict = {i: weight for i, weight in enumerate(class_weights)}\n",
        "    label_weight_dict = {label: class_weights[i] for i, label in enumerate(unique_labels)}\n",
        "\n",
        "    print(f\"\\nCalculated class weights:\")\n",
        "    for label, weight in label_weight_dict.items():\n",
        "        print(f\"  {label}: {weight:.3f}\")\n",
        "\n",
        "    return class_weight_dict, label_weight_dict"
      ],
      "metadata": {
        "id": "5fysOj5ZtZsR"
      },
      "execution_count": null,
      "outputs": []
    },
    {
      "cell_type": "markdown",
      "source": [
        "Preprocessing"
      ],
      "metadata": {
        "id": "lzzKJih0hwEJ"
      }
    },
    {
      "cell_type": "code",
      "source": [
        "# import re\n",
        "\n",
        "# def basic_text_preprocessing(text):\n",
        "#     text = text.strip()\n",
        "#     # lowercase (skip if your model is cased)\n",
        "#     text = text.lower()\n",
        "#     # remove URLs\n",
        "#     text = re.sub(r\"http\\S+|www\\S+|https\\S+\", '', text, flags=re.MULTILINE)\n",
        "#     # remove extra spaces\n",
        "#     text = re.sub(r'\\s+', ' ', text)\n",
        "#     return text\n",
        "\n",
        "# train_df['claims'] = train_df['claims'].apply(basic_text_preprocessing)\n"
      ],
      "metadata": {
        "id": "NUDjQg40hhdf"
      },
      "execution_count": null,
      "outputs": []
    },
    {
      "cell_type": "code",
      "source": [
        "print(train_df['claims'].head())"
      ],
      "metadata": {
        "colab": {
          "base_uri": "https://localhost:8080/"
        },
        "id": "GFibPJt_vFwt",
        "outputId": "3691316c-b9c0-4b87-c00b-554cbd7f35aa"
      },
      "execution_count": null,
      "outputs": [
        {
          "output_type": "stream",
          "name": "stdout",
          "text": [
            "0    Satellite transmissions are extremely small an...\n",
            "1    Scientists studying Antarctica sea ice warn a ...\n",
            "2    The connection between the vanishing Arctic ic...\n",
            "3    Seventeen of the 18 warmest years have occurre...\n",
            "4    the first scientists to show that the thick ic...\n",
            "Name: claims, dtype: object\n"
          ]
        }
      ]
    },
    {
      "cell_type": "markdown",
      "source": [
        "Undersampling"
      ],
      "metadata": {
        "id": "W8EyvtGEhzki"
      }
    },
    {
      "cell_type": "markdown",
      "source": [
        "\n",
        "\n",
        "1. Undersampling with the label support equal to the label not enough info did not work well we saw that F1 score for not enough info dropped and not much improvised for support or refute because there is still a class imbalance so majorly overall decreasing the accuracy\n",
        "2. Now, undersampling with the count equal to the minority clause was extreme. Undersampling with 456 labels for every clause, there was a drastic decrease in accuracy, and yes, possibly due to lesser data and also a complete fine-tuning of a big model.\n",
        "3. Like with conservative undersampling with like not enough info labels to be 1654, and the result wasn't good enough and rather it decreased than not doing any kind of undersampling.\n",
        "\n",
        "\n",
        "\n",
        "\n",
        "\n",
        "\n"
      ],
      "metadata": {
        "id": "wQoUhr1U0Wio"
      }
    },
    {
      "cell_type": "code",
      "source": [
        "# from sklearn.utils import resample\n",
        "\n",
        "# # Separate classes\n",
        "# df_not_enough_info = train_df[train_df['claims_labels'] == 'NOT_ENOUGH_INFO']\n",
        "# df_supports = train_df[train_df['claims_labels'] == 'SUPPORTS']\n",
        "# df_refutes = train_df[train_df['claims_labels'] == 'REFUTES']\n",
        "\n",
        "# # Find minority class size\n",
        "# minority_size = max(len(df_supports), len(df_refutes))\n",
        "\n",
        "# # Undersample majority class\n",
        "# df_not_enough_info_downsampled = resample(\n",
        "#     df_not_enough_info,\n",
        "#     replace=False,\n",
        "#     n_samples=minority_size,\n",
        "#     random_state=42\n",
        "# )\n",
        "\n",
        "# # Combine and overwrite train_df\n",
        "# train_df = pd.concat([df_not_enough_info_downsampled, df_supports, df_refutes]).reset_index(drop=True)\n",
        "\n",
        "# print(train_df['claims_labels'].value_counts())\n"
      ],
      "metadata": {
        "id": "L4UNC05YhsYN"
      },
      "execution_count": null,
      "outputs": []
    },
    {
      "cell_type": "code",
      "source": [
        "# from sklearn.utils import resample\n",
        "\n",
        "# # Separate classes\n",
        "# df_not_enough_info = train_df[train_df['claims_labels'] == 'NOT_ENOUGH_INFO']\n",
        "# df_supports = train_df[train_df['claims_labels'] == 'SUPPORTS']\n",
        "# df_refutes = train_df[train_df['claims_labels'] == 'REFUTES']\n",
        "\n",
        "# # Find true minority class size (smallest of all three)\n",
        "# minority_size = min(len(df_not_enough_info), len(df_supports), len(df_refutes))\n",
        "\n",
        "# # Undersample all classes to minority size\n",
        "# df_not_enough_info_downsampled = resample(\n",
        "#     df_not_enough_info,\n",
        "#     replace=False,\n",
        "#     n_samples=minority_size,\n",
        "#     random_state=42\n",
        "# )\n",
        "\n",
        "# df_supports_downsampled = resample(\n",
        "#     df_supports,\n",
        "#     replace=False,\n",
        "#     n_samples=minority_size,\n",
        "#     random_state=42\n",
        "# )\n",
        "\n",
        "# df_refutes_downsampled = resample(\n",
        "#     df_refutes,\n",
        "#     replace=False,\n",
        "#     n_samples=minority_size,\n",
        "#     random_state=42\n",
        "# )\n",
        "\n",
        "# # Combine\n",
        "# train_df = pd.concat([df_not_enough_info_downsampled, df_supports_downsampled, df_refutes_downsampled]).reset_index(drop=True)\n",
        "# print(\"Implementation 2 - Extreme undersampling (all to smallest):\")\n",
        "# print(train_df['claims_labels'].value_counts())"
      ],
      "metadata": {
        "id": "7QvBf8r51-H2"
      },
      "execution_count": null,
      "outputs": []
    },
    {
      "cell_type": "code",
      "source": [
        "# from sklearn.utils import resample\n",
        "\n",
        "# # Separate classes\n",
        "# df_not_enough_info = train_df[train_df['claims_labels'] == 'NOT_ENOUGH_INFO']\n",
        "# df_supports = train_df[train_df['claims_labels'] == 'SUPPORTS']\n",
        "# df_refutes = train_df[train_df['claims_labels'] == 'REFUTES']\n",
        "\n",
        "# # Find sizes\n",
        "# supports_size = len(df_supports)\n",
        "# refutes_size = len(df_refutes)\n",
        "# not_enough_size = len(df_not_enough_info)\n",
        "\n",
        "# # Conservative target: reduce NOT_ENOUGH_INFO to 1.5x the larger minority class\n",
        "# # This is less aggressive than making them equal\n",
        "# conservative_target = int(1.5 * max(supports_size, refutes_size))\n",
        "\n",
        "# # Make sure we don't try to sample more than available\n",
        "# conservative_target = min(conservative_target, not_enough_size)\n",
        "\n",
        "# # Undersample NOT_ENOUGH_INFO conservatively\n",
        "# df_not_enough_info_downsampled = resample(\n",
        "#     df_not_enough_info,\n",
        "#     replace=False,\n",
        "#     n_samples=conservative_target,\n",
        "#     random_state=42\n",
        "# )\n",
        "\n",
        "# # Combine (keep SUPPORTS and REFUTES unchanged)\n",
        "# train_df = pd.concat([df_not_enough_info_downsampled, df_supports, df_refutes]).reset_index(drop=True)\n",
        "# print(\"Implementation 3 - Conservative undersampling (1.5x majority minority):\")\n",
        "# print(train_df['claims_labels'].value_counts())"
      ],
      "metadata": {
        "colab": {
          "base_uri": "https://localhost:8080/"
        },
        "id": "pDa7efk82M-7",
        "outputId": "5a5eba37-6c26-4ff3-af5c-07b65620344c"
      },
      "execution_count": null,
      "outputs": [
        {
          "output_type": "stream",
          "name": "stdout",
          "text": [
            "Implementation 3 - Conservative undersampling (1.5x majority minority):\n",
            "claims_labels\n",
            "NOT_ENOUGH_INFO    1654\n",
            "SUPPORTS           1103\n",
            "REFUTES             456\n",
            "Name: count, dtype: int64\n"
          ]
        }
      ]
    },
    {
      "cell_type": "markdown",
      "source": [
        "Data Augmentation"
      ],
      "metadata": {
        "id": "-t10Le3uiEUE"
      }
    },
    {
      "cell_type": "code",
      "source": [
        "# import nlpaug.augmenter.word as naw\n",
        "\n",
        "# syn_aug = naw.SynonymAug(aug_src='wordnet')\n",
        "\n",
        "# def augment_texts(texts, augmenter, n_aug=2):\n",
        "#     augmented_texts = []\n",
        "#     for text in texts:\n",
        "#         augmented_texts.append(text)  # keep original\n",
        "#         for _ in range(n_aug):\n",
        "#             augmented = augmenter.augment(text)\n",
        "#             augmented_texts.append(augmented)\n",
        "#     return augmented_texts\n",
        "\n"
      ],
      "metadata": {
        "id": "Z_d5fRNoh5Ol"
      },
      "execution_count": null,
      "outputs": []
    },
    {
      "cell_type": "code",
      "source": [
        "# # Extract classes\n",
        "# df_not_enough_info = train_df[train_df['claims_labels'] == 'NOT_ENOUGH_INFO']\n",
        "# df_supports = train_df[train_df['claims_labels'] == 'SUPPORTS']\n",
        "# df_refutes = train_df[train_df['claims_labels'] == 'REFUTES']\n",
        "\n",
        "# # Augment minority classes\n",
        "# augmented_supports = augment_texts(df_supports['claims'].tolist(), syn_aug, n_aug=2)\n",
        "# augmented_refutes = augment_texts(df_refutes['claims'].tolist(), syn_aug, n_aug=2)\n",
        "\n",
        "# # Make new dataframes\n",
        "# df_augmented_supports = pd.DataFrame({\n",
        "#     'claims': augmented_supports,\n",
        "#     'claims_labels': 'SUPPORTS'\n",
        "# })\n",
        "# df_augmented_refutes = pd.DataFrame({\n",
        "#     'claims': augmented_refutes,\n",
        "#     'claims_labels': 'REFUTES'\n",
        "# })\n",
        "\n",
        "# # Combine all and overwrite train_df\n",
        "# train_df = pd.concat([df_not_enough_info, df_augmented_supports, df_augmented_refutes]).reset_index(drop=True)\n",
        "\n",
        "# print(train_df['claims_labels'].value_counts())\n"
      ],
      "metadata": {
        "id": "TrVahtExiWmU"
      },
      "execution_count": null,
      "outputs": []
    },
    {
      "cell_type": "code",
      "source": [
        " class_weights, label_weights = calculate_class_weights(train_df)"
      ],
      "metadata": {
        "colab": {
          "base_uri": "https://localhost:8080/"
        },
        "id": "JRCDdCkStlug",
        "outputId": "d19bb4c6-4e79-4b2b-e7e6-99bbbbc56022"
      },
      "execution_count": null,
      "outputs": [
        {
          "output_type": "stream",
          "name": "stdout",
          "text": [
            "Class distribution:\n",
            "claims_labels\n",
            "NOT_ENOUGH_INFO    1654\n",
            "SUPPORTS           1103\n",
            "REFUTES             456\n",
            "Name: count, dtype: int64\n",
            "Class proportions:\n",
            "claims_labels\n",
            "NOT_ENOUGH_INFO    0.514784\n",
            "SUPPORTS           0.343293\n",
            "REFUTES            0.141923\n",
            "Name: proportion, dtype: float64\n",
            "\n",
            "Calculated class weights:\n",
            "  NOT_ENOUGH_INFO: 0.648\n",
            "  REFUTES: 2.349\n",
            "  SUPPORTS: 0.971\n"
          ]
        }
      ]
    },
    {
      "cell_type": "code",
      "source": [
        "def create_train_val_test_split(df, train_size=0.8, val_size=0.10, test_size=0.10, random_state=42):\n",
        "    \"\"\"\n",
        "    Create stratified train/validation/test splits\n",
        "    \"\"\"\n",
        "\n",
        "    assert abs(train_size + val_size + test_size - 1.0) < 1e-6, \"Split sizes must sum to 1.0\"\n",
        "\n",
        "    # First split: train and temp (val + test)\n",
        "    train_df, temp_df = train_test_split(\n",
        "        df,\n",
        "        train_size=train_size,\n",
        "        stratify=df['claims_labels'],\n",
        "        random_state=random_state\n",
        "    )\n",
        "\n",
        "    # Second split: validation and test from temp\n",
        "    val_ratio = val_size / (val_size + test_size)\n",
        "    val_df, test_df = train_test_split(\n",
        "        temp_df,\n",
        "        train_size=val_ratio,\n",
        "        stratify=temp_df['claims_labels'],\n",
        "        random_state=random_state\n",
        "    )\n",
        "\n",
        "    print(\"Data split summary:\")\n",
        "    print(f\"Train: {len(train_df)} samples ({len(train_df)/len(df):.1%})\")\n",
        "    print(f\"Validation: {len(val_df)} samples ({len(val_df)/len(df):.1%})\")\n",
        "    print(f\"Test: {len(test_df)} samples ({len(test_df)/len(df):.1%})\")\n",
        "\n",
        "    # Check class distribution in each split\n",
        "    print(f\"\\nClass distribution in splits:\")\n",
        "    for split_name, split_df in [(\"Train\", train_df), (\"Validation\", val_df), (\"Test\", test_df)]:\n",
        "        print(f\"\\n{split_name}:\")\n",
        "        print(split_df['claims_labels'].value_counts())\n",
        "\n",
        "    return train_df, val_df, test_df"
      ],
      "metadata": {
        "id": "qfxnOcxmtelf"
      },
      "execution_count": null,
      "outputs": []
    },
    {
      "cell_type": "code",
      "source": [
        "#  train_df, val_df, test_df = create_train_val_test_split(df)"
      ],
      "metadata": {
        "id": "Wq9jdz1Ptq-F"
      },
      "execution_count": null,
      "outputs": []
    },
    {
      "cell_type": "markdown",
      "source": [
        "## DATASET CLASS FOR PYTORCH"
      ],
      "metadata": {
        "id": "EbXFNf2suzS0"
      }
    },
    {
      "cell_type": "code",
      "source": [
        "\n",
        "class ClimateClaimDataset(Dataset):\n",
        "    def __init__(self, claims, labels, tokenizer, max_length=512):\n",
        "        self.claims = claims\n",
        "        self.labels = labels\n",
        "        self.tokenizer = tokenizer\n",
        "        self.max_length = max_length\n",
        "\n",
        "        # Create label mapping\n",
        "        unique_labels = sorted(list(set(labels)))\n",
        "        self.label2id = {label: i for i, label in enumerate(unique_labels)}\n",
        "        self.id2label = {i: label for label, i in self.label2id.items()}\n",
        "\n",
        "    def __len__(self):\n",
        "        return len(self.claims)\n",
        "\n",
        "    def __getitem__(self, idx):\n",
        "        claim = str(self.claims[idx])\n",
        "        label = self.labels[idx]\n",
        "\n",
        "        # Tokenize\n",
        "        encoding = self.tokenizer(\n",
        "            claim,\n",
        "            add_special_tokens=True,\n",
        "            max_length=self.max_length,\n",
        "            padding='max_length',\n",
        "            truncation=True,\n",
        "            return_attention_mask=True,\n",
        "            return_tensors='pt'\n",
        "        )\n",
        "\n",
        "        return {\n",
        "            'input_ids': encoding['input_ids'].flatten(),\n",
        "            'attention_mask': encoding['attention_mask'].flatten(),\n",
        "            'labels': torch.tensor(self.label2id[label], dtype=torch.long)\n",
        "        }\n"
      ],
      "metadata": {
        "id": "bhqvZOFhu0rK"
      },
      "execution_count": null,
      "outputs": []
    },
    {
      "cell_type": "markdown",
      "source": [
        "## MODEL SETUP AND TRAINING"
      ],
      "metadata": {
        "id": "JAj6BDcsw1V3"
      }
    },
    {
      "cell_type": "markdown",
      "source": [
        "Custom Head"
      ],
      "metadata": {
        "id": "6dUFTFbHV2Ze"
      }
    },
    {
      "cell_type": "code",
      "source": [
        "import torch\n",
        "import torch.nn as nn\n",
        "from transformers import AutoModel, AutoConfig\n",
        "\n",
        "class ModelWithFFHead(nn.Module):\n",
        "    def __init__(self, model_name, num_labels=3, dropout_prob=0.1, class_weights=None):\n",
        "        super().__init__()\n",
        "\n",
        "        self.config = AutoConfig.from_pretrained(model_name, num_labels=num_labels)\n",
        "        self.base_model = AutoModel.from_pretrained(model_name, config=self.config)\n",
        "\n",
        "        self.class_weights = class_weights  # store weights if provided\n",
        "\n",
        "        hidden_size = self.config.hidden_size\n",
        "\n",
        "        self.classifier = nn.Sequential(\n",
        "            nn.Linear(hidden_size, hidden_size),\n",
        "            nn.Tanh(),\n",
        "            nn.Dropout(dropout_prob),\n",
        "            nn.Linear(hidden_size, num_labels)\n",
        "        )\n",
        "\n",
        "    def forward(self, input_ids=None, attention_mask=None, token_type_ids=None, labels=None):\n",
        "        outputs = self.base_model(\n",
        "            input_ids=input_ids,\n",
        "            attention_mask=attention_mask,\n",
        "            return_dict=True,\n",
        "        )\n",
        "\n",
        "        pooled_output = outputs.last_hidden_state[:, 0]  # CLS token\n",
        "        logits = self.classifier(pooled_output)\n",
        "\n",
        "        loss = None\n",
        "        if labels is not None:\n",
        "            if self.class_weights is not None:\n",
        "                weight_tensor = torch.tensor(\n",
        "                    self.class_weights, dtype=torch.float32, device=logits.device\n",
        "                )\n",
        "                loss_fct = nn.CrossEntropyLoss(weight=weight_tensor)\n",
        "            else:\n",
        "                loss_fct = nn.CrossEntropyLoss()\n",
        "\n",
        "            loss = loss_fct(logits.view(-1, self.config.num_labels), labels.view(-1))\n",
        "\n",
        "        return {\"loss\": loss, \"logits\": logits} if loss is not None else {\"logits\": logits}\n"
      ],
      "metadata": {
        "id": "epjXXdPaXfqD"
      },
      "execution_count": null,
      "outputs": []
    },
    {
      "cell_type": "markdown",
      "source": [
        "Simple"
      ],
      "metadata": {
        "id": "XuTtQmgyV9JH"
      }
    },
    {
      "cell_type": "code",
      "source": [
        "  #  # Load model with custom config following ClimateBERT paper\n",
        "  #   model = AutoModelForSequenceClassification.from_pretrained(\n",
        "  #       model_name,\n",
        "  #       num_labels=num_labels,\n",
        "  #       problem_type=\"single_label_classification\",\n",
        "  #       hidden_dropout_prob=0.1,\n",
        "  #       attention_probs_dropout_prob=0.1\n",
        "  #   )"
      ],
      "metadata": {
        "id": "kiPHSmp-Wb4e"
      },
      "execution_count": null,
      "outputs": []
    },
    {
      "cell_type": "code",
      "source": [
        "class WeightedTrainer(Trainer):\n",
        "    \"\"\"\n",
        "    Custom trainer with class weights for handling imbalanced datasets\n",
        "    \"\"\"\n",
        "    def __init__(self, class_weights=None, *args, **kwargs):\n",
        "        super().__init__(*args, **kwargs)\n",
        "        self.class_weights = class_weights\n",
        "\n",
        "    def compute_loss(self, model, inputs, return_outputs=False,num_items_in_batch=None):\n",
        "        labels = inputs.get(\"labels\")\n",
        "        # Forward pass\n",
        "        outputs = model(**inputs)\n",
        "        logits = outputs.get(\"logits\")\n",
        "\n",
        "        # Compute weighted loss\n",
        "        if self.class_weights is not None:\n",
        "            # Convert class weights to tensor\n",
        "            weight_tensor = torch.tensor(\n",
        "                [self.class_weights[i] for i in range(len(self.class_weights))],\n",
        "                dtype=torch.float32,\n",
        "                device=labels.device\n",
        "            )\n",
        "            loss_fct = torch.nn.CrossEntropyLoss(weight=weight_tensor)\n",
        "            loss = loss_fct(logits.view(-1, self.model.config.num_labels), labels.view(-1))\n",
        "        else:\n",
        "            # Standard loss\n",
        "            loss_fct = torch.nn.CrossEntropyLoss()\n",
        "            loss = loss_fct(logits.view(-1, self.model.config.num_labels), labels.view(-1))\n",
        "\n",
        "        return (loss, outputs) if return_outputs else loss\n",
        "\n",
        "def setup_model_and_tokenizer(model_name=\"FacebookAI/roberta-base\", num_labels=3, class_weights=None):\n",
        "    \"\"\"\n",
        "    Setup ClimateBERT model with tanh FF head and optional class weights\n",
        "    \"\"\"\n",
        "\n",
        "    tokenizer = AutoTokenizer.from_pretrained(model_name)\n",
        "\n",
        "    if tokenizer.pad_token is None:\n",
        "        tokenizer.pad_token = tokenizer.eos_token\n",
        "\n",
        "    model = ModelWithFFHead(\n",
        "        model_name=model_name,\n",
        "        num_labels=num_labels,\n",
        "        class_weights=class_weights\n",
        "    )\n",
        "\n",
        "    return model, tokenizer\n",
        "\n",
        "\n",
        "def create_datasets(train_df, val_df, test_df, tokenizer, max_length=512):\n",
        "    \"\"\"\n",
        "    Create dataset objects for training\n",
        "    \"\"\"\n",
        "\n",
        "    # Create dataset instances\n",
        "    train_dataset = ClimateClaimDataset(\n",
        "        train_df['claims'].tolist(),\n",
        "        train_df['claims_labels'].tolist(),\n",
        "        tokenizer,\n",
        "        max_length\n",
        "    )\n",
        "\n",
        "    val_dataset = ClimateClaimDataset(\n",
        "        val_df['claims'].tolist(),\n",
        "        val_df['claims_labels'].tolist(),\n",
        "        tokenizer,\n",
        "        max_length\n",
        "    )\n",
        "\n",
        "    test_dataset = ClimateClaimDataset(\n",
        "        test_df['claims'].tolist(),\n",
        "        test_df['claims_labels'].tolist(),\n",
        "        tokenizer,\n",
        "        max_length\n",
        "    )\n",
        "\n",
        "    return train_dataset, val_dataset, test_dataset\n",
        "\n",
        "def compute_metrics(eval_pred):\n",
        "    \"\"\"\n",
        "    Compute metrics for evaluation including class-wise F1-scores\n",
        "    \"\"\"\n",
        "    from sklearn.metrics import accuracy_score, f1_score, precision_recall_fscore_support\n",
        "\n",
        "    predictions, labels = eval_pred\n",
        "    predictions = np.argmax(predictions, axis=1)\n",
        "\n",
        "    # Overall metrics\n",
        "    accuracy = accuracy_score(labels, predictions)\n",
        "\n",
        "    # Class-wise metrics\n",
        "    precision, recall, f1, support = precision_recall_fscore_support(\n",
        "        labels, predictions, average=None, zero_division=0\n",
        "    )\n",
        "\n",
        "    # Macro and weighted averages\n",
        "    f1_macro = f1_score(labels, predictions, average='macro', zero_division=0)\n",
        "    f1_weighted = f1_score(labels, predictions, average='weighted', zero_division=0)\n",
        "\n",
        "    # Create metric dictionary\n",
        "    metrics = {\n",
        "        'accuracy': accuracy,\n",
        "        'f1_macro': f1_macro,\n",
        "        'f1_weighted': f1_weighted,\n",
        "    }\n",
        "\n",
        "    # Add class-wise F1 scores\n",
        "    # Assuming labels: 0=not enough information, 1=refute, 2=support\n",
        "    label_names = ['not_enough_info', 'refute', 'support']\n",
        "    for i, label_name in enumerate(label_names):\n",
        "        if i < len(f1):\n",
        "            metrics[f'f1_{label_name}'] = f1[i]\n",
        "            metrics[f'precision_{label_name}'] = precision[i] = precision[i]\n",
        "            metrics[f'recall_{label_name}'] = recall[i]\n",
        "    return metrics\n",
        "\n",
        "def train_model(model, train_dataset, val_dataset, class_weights=None, output_dir=\"./climate-claim-classifier\"):\n",
        "    \"\"\"\n",
        "    Train the model following ClimateBERT paper hyperparameters\n",
        "    \"\"\"\n",
        "\n",
        "    # ClimateBERT paper hyperparameters for downstream tasks\n",
        "    training_args = TrainingArguments(\n",
        "            output_dir=output_dir,\n",
        "            num_train_epochs=10,\n",
        "            per_device_train_batch_size=32,\n",
        "            per_device_eval_batch_size=32,\n",
        "            learning_rate=1e-5,\n",
        "            weight_decay=0.01,\n",
        "            adam_beta1=0.9,\n",
        "            adam_beta2=0.999,\n",
        "            adam_epsilon=1e-6,\n",
        "            warmup_ratio=0.06,\n",
        "            logging_dir='./logs',\n",
        "            logging_steps=50,\n",
        "            eval_strategy=\"epoch\",\n",
        "            save_strategy=\"epoch\",\n",
        "            load_best_model_at_end=True,\n",
        "            metric_for_best_model=\"f1_macro\",\n",
        "            greater_is_better=True,\n",
        "            save_total_limit=3,\n",
        "            seed=42,\n",
        "            dataloader_drop_last=False,\n",
        "            push_to_hub=False,\n",
        "            fp16=torch.cuda.is_available(),\n",
        "            dataloader_pin_memory=True,\n",
        "            remove_unused_columns=True,\n",
        "            report_to=None,\n",
        "            max_grad_norm=1.0,\n",
        "            dataloader_num_workers=2,\n",
        "            lr_scheduler_type=\"linear\",\n",
        "        )\n",
        "\n",
        "    trainer = WeightedTrainer(\n",
        "            class_weights=class_weights,\n",
        "            model=model,\n",
        "            args=training_args,\n",
        "            train_dataset=train_dataset,\n",
        "            eval_dataset=val_dataset,\n",
        "            compute_metrics=compute_metrics,\n",
        "            callbacks=[EarlyStoppingCallback(early_stopping_patience=10)]\n",
        "        )\n",
        "\n",
        "    print(\"Starting training with ClimateBERT downstream domain hyperparameters...\")\n",
        "    print(f\"Class weights: {class_weights}\")\n",
        "    trainer.train()\n",
        "    trainer.save_model()\n",
        "\n",
        "    return trainer"
      ],
      "metadata": {
        "id": "vrygsLt-w3BP"
      },
      "execution_count": null,
      "outputs": []
    },
    {
      "cell_type": "code",
      "source": [
        "\n",
        "def evaluate_model(trainer, test_dataset, label_names):\n",
        "    \"\"\"\n",
        "    Evaluate the trained model on test set with detailed class-wise metrics\n",
        "    \"\"\"\n",
        "    from sklearn.metrics import classification_report, confusion_matrix, f1_score\n",
        "\n",
        "    # Get predictions\n",
        "    predictions = trainer.predict(test_dataset)\n",
        "    y_pred = np.argmax(predictions.predictions, axis=1)\n",
        "    y_true = predictions.label_ids\n",
        "\n",
        "    # Calculate overall metrics\n",
        "    accuracy = accuracy_score(y_true, y_pred)\n",
        "    f1_macro = f1_score(y_true, y_pred, average='macro')\n",
        "    f1_weighted = f1_score(y_true, y_pred, average='weighted')\n",
        "\n",
        "    print(f\"Test Results:\")\n",
        "    print(f\"Accuracy: {accuracy:.4f}\")\n",
        "    print(f\"Macro F1-score: {f1_macro:.4f}\")\n",
        "    print(f\"Weighted F1-score: {f1_weighted:.4f}\")\n",
        "\n",
        "    # Detailed classification report\n",
        "    print(f\"\\n Detailed Classification Report:\")\n",
        "    print(classification_report(y_true, y_pred, target_names=label_names, digits=4))\n",
        "\n",
        "    # Class-wise F1 scores\n",
        "    class_f1_scores = f1_score(y_true, y_pred, average=None)\n",
        "    print(f\"\\nClass-wise F1-scores:\")\n",
        "    for i, (label, f1) in enumerate(zip(label_names, class_f1_scores)):\n",
        "        print(f\"  {label}: {f1:.4f}\")\n",
        "\n",
        "    # Confusion matrix\n",
        "    cm = confusion_matrix(y_true, y_pred)\n",
        "    plt.figure(figsize=(10, 8))\n",
        "    sns.heatmap(cm, annot=True, fmt='d', cmap='Blues',\n",
        "                xticklabels=label_names, yticklabels=label_names)\n",
        "    plt.title('Confusion Matrix')\n",
        "    plt.ylabel('True Label')\n",
        "    plt.xlabel('Predicted Label')\n",
        "    plt.show()\n",
        "\n",
        "    # Class-wise F1 scores visualization\n",
        "    plt.figure(figsize=(10, 6))\n",
        "    bars = plt.bar(label_names, class_f1_scores, color=['#ff9999', '#66b3ff', '#99ff99'])\n",
        "    plt.title('Class-wise F1-scores')\n",
        "    plt.ylabel('F1-score')\n",
        "    plt.ylim(0, 1)\n",
        "\n",
        "    # Add value labels on bars\n",
        "    for bar, score in zip(bars, class_f1_scores):\n",
        "        plt.text(bar.get_x() + bar.get_width()/2, bar.get_height() + 0.01,\n",
        "                f'{score:.3f}', ha='center', va='bottom')\n",
        "\n",
        "    plt.xticks(rotation=45)\n",
        "    plt.tight_layout()\n",
        "    plt.show()\n",
        "\n",
        "    return accuracy, f1_macro, y_pred, y_true"
      ],
      "metadata": {
        "id": "KlLbmrwzxH8o"
      },
      "execution_count": null,
      "outputs": []
    },
    {
      "cell_type": "code",
      "source": [
        "\n",
        "def plot_training_history(trainer):\n",
        "    \"\"\"\n",
        "    Plot training and validation metrics over time\n",
        "    \"\"\"\n",
        "    log_history = trainer.state.log_history\n",
        "\n",
        "    # Extract training and evaluation metrics\n",
        "    train_metrics = [log for log in log_history if 'loss' in log and 'eval_loss' not in log]\n",
        "    eval_metrics = [log for log in log_history if 'eval_loss' in log]\n",
        "\n",
        "    if not eval_metrics:\n",
        "        print(\"No evaluation metrics found in training history.\")\n",
        "        return\n",
        "\n",
        "    # Extract steps and metrics\n",
        "    eval_steps = [log['step'] for log in eval_metrics]\n",
        "    eval_accuracy = [log.get('eval_accuracy', 0) for log in eval_metrics]\n",
        "    eval_f1_macro = [log.get('eval_f1_macro', 0) for log in eval_metrics]\n",
        "    eval_f1_weighted = [log.get('eval_f1_weighted', 0) for log in eval_metrics]\n",
        "\n",
        "    # Class-wise F1 scores (if available)\n",
        "    eval_f1_support = [log.get('eval_f1_support', 0) for log in eval_metrics]\n",
        "    eval_f1_refute = [log.get('eval_f1_refute', 0) for log in eval_metrics]\n",
        "    eval_f1_not_enough_info = [log.get('eval_f1_not_enough_info', 0) for log in eval_metrics]\n",
        "\n",
        "    # Plot metrics\n",
        "    fig, axes = plt.subplots(2, 2, figsize=(15, 10))\n",
        "\n",
        "    # Overall metrics\n",
        "    axes[0, 0].plot(eval_steps, eval_accuracy, 'b-o', label='Accuracy')\n",
        "    axes[0, 0].plot(eval_steps, eval_f1_macro, 'r-o', label='Macro F1')\n",
        "    axes[0, 0].plot(eval_steps, eval_f1_weighted, 'g-o', label='Weighted F1')\n",
        "    axes[0, 0].set_title('Overall Validation Metrics')\n",
        "    axes[0, 0].set_xlabel('Training Steps')\n",
        "    axes[0, 0].set_ylabel('Score')\n",
        "    axes[0, 0].legend()\n",
        "    axes[0, 0].grid(True)\n",
        "\n",
        "    # Class-wise F1 scores\n",
        "    axes[0, 1].plot(eval_steps, eval_f1_support, 'b-o', label='Support')\n",
        "    axes[0, 1].plot(eval_steps, eval_f1_refute, 'r-o', label='Refute')\n",
        "    axes[0, 1].plot(eval_steps, eval_f1_not_enough_info, 'g-o', label='Not Enough Info')\n",
        "    axes[0, 1].set_title('Class-wise F1 Scores')\n",
        "    axes[0, 1].set_xlabel('Training Steps')\n",
        "    axes[0, 1].set_ylabel('F1 Score')\n",
        "    axes[0, 1].legend()\n",
        "    axes[0, 1].grid(True)\n",
        "\n",
        "    # Training loss\n",
        "    train_steps = [log['step'] for log in train_metrics if 'loss' in log]\n",
        "    train_loss = [log['loss'] for log in train_metrics if 'loss' in log]\n",
        "    eval_loss = [log.get('eval_loss', 0) for log in eval_metrics]\n",
        "\n",
        "    if train_steps and train_loss:\n",
        "        axes[1, 0].plot(train_steps, train_loss, 'b-', label='Training Loss')\n",
        "        axes[1, 0].plot(eval_steps, eval_loss, 'r-o', label='Validation Loss')\n",
        "        axes[1, 0].set_title('Training and Validation Loss')\n",
        "        axes[1, 0].set_xlabel('Training Steps')\n",
        "        axes[1, 0].set_ylabel('Loss')\n",
        "        axes[1, 0].legend()\n",
        "        axes[1, 0].grid(True)\n",
        "\n",
        "    # Learning rate schedule\n",
        "    learning_rates = [log.get('learning_rate', 0) for log in train_metrics if 'learning_rate' in log]\n",
        "    lr_steps = [log['step'] for log in train_metrics if 'learning_rate' in log]\n",
        "\n",
        "    if lr_steps and learning_rates:\n",
        "        axes[1, 1].plot(lr_steps, learning_rates, 'g-')\n",
        "        axes[1, 1].set_title('Learning Rate Schedule')\n",
        "        axes[1, 1].set_xlabel('Training Steps')\n",
        "        axes[1, 1].set_ylabel('Learning Rate')\n",
        "        axes[1, 1].grid(True)\n",
        "\n",
        "    plt.tight_layout()\n",
        "    plt.show()"
      ],
      "metadata": {
        "id": "7MooC2sbxt48"
      },
      "execution_count": null,
      "outputs": []
    },
    {
      "cell_type": "code",
      "source": [
        "model, tokenizer = setup_model_and_tokenizer()"
      ],
      "metadata": {
        "id": "zNN46t32xMkf",
        "colab": {
          "base_uri": "https://localhost:8080/"
        },
        "outputId": "14ed8ce1-7873-491a-dd8b-fd2804531599"
      },
      "execution_count": null,
      "outputs": [
        {
          "output_type": "stream",
          "name": "stderr",
          "text": [
            "Some weights of RobertaModel were not initialized from the model checkpoint at FacebookAI/roberta-base and are newly initialized: ['pooler.dense.bias', 'pooler.dense.weight']\n",
            "You should probably TRAIN this model on a down-stream task to be able to use it for predictions and inference.\n"
          ]
        }
      ]
    },
    {
      "cell_type": "code",
      "source": [
        "train_dataset, val_dataset, test_dataset = create_datasets(\n",
        "        train_df, val_df, test_df, tokenizer\n",
        "    )"
      ],
      "metadata": {
        "id": "TP6X2HemxOfK"
      },
      "execution_count": null,
      "outputs": []
    },
    {
      "cell_type": "code",
      "source": [
        "print(\"\\n Step 6: Training the model with class weighting...\")\n",
        "print(\"Training configuration:\")\n",
        "print(\"   - Batch size: 32\")\n",
        "print(\"   - Learning rate: 5e-5\")\n",
        "print(\"   - Weight decay: 0.01\")\n",
        "print(\"   - Early stopping patience: 4\")\n",
        "print(\"   - Monitoring: Macro F1-score\")\n",
        "print(\"   - Class weighting: Balanced\")\n",
        "\n",
        "\n"
      ],
      "metadata": {
        "id": "tJ5nYYpyxRFr",
        "colab": {
          "base_uri": "https://localhost:8080/"
        },
        "outputId": "8f287b11-6b93-47e1-f16e-da6f3c4d6762"
      },
      "execution_count": null,
      "outputs": [
        {
          "output_type": "stream",
          "name": "stdout",
          "text": [
            "\n",
            " Step 6: Training the model with class weighting...\n",
            "Training configuration:\n",
            "   - Batch size: 32\n",
            "   - Learning rate: 5e-5\n",
            "   - Weight decay: 0.01\n",
            "   - Early stopping patience: 4\n",
            "   - Monitoring: Macro F1-score\n",
            "   - Class weighting: Balanced\n"
          ]
        }
      ]
    },
    {
      "cell_type": "code",
      "source": [
        "trainer = train_model(model, train_dataset, val_dataset, class_weights=class_weights)"
      ],
      "metadata": {
        "id": "VBiIRYmPxaOa",
        "colab": {
          "base_uri": "https://localhost:8080/",
          "height": 589
        },
        "outputId": "93042e52-21e8-4e5b-822a-51d20ac98753"
      },
      "execution_count": null,
      "outputs": [
        {
          "output_type": "stream",
          "name": "stdout",
          "text": [
            "Starting training with ClimateBERT downstream domain hyperparameters...\n",
            "Class weights: {0: np.float64(0.6475211608222491), 1: np.float64(2.348684210526316), 2: np.float64(0.970988213961922)}\n"
          ]
        },
        {
          "output_type": "display_data",
          "data": {
            "text/plain": [
              "<IPython.core.display.HTML object>"
            ],
            "text/html": [
              "\n",
              "    <div>\n",
              "      \n",
              "      <progress value='2613' max='4020' style='width:300px; height:20px; vertical-align: middle;'></progress>\n",
              "      [2613/4020 22:43 < 12:14, 1.91 it/s, Epoch 13/20]\n",
              "    </div>\n",
              "    <table border=\"1\" class=\"dataframe\">\n",
              "  <thead>\n",
              " <tr style=\"text-align: left;\">\n",
              "      <th>Epoch</th>\n",
              "      <th>Training Loss</th>\n",
              "      <th>Validation Loss</th>\n",
              "      <th>Accuracy</th>\n",
              "      <th>F1 Macro</th>\n",
              "      <th>F1 Weighted</th>\n",
              "      <th>F1 Not Enough Info</th>\n",
              "      <th>Precision Not Enough Info</th>\n",
              "      <th>Recall Not Enough Info</th>\n",
              "      <th>F1 Refute</th>\n",
              "      <th>Precision Refute</th>\n",
              "      <th>Recall Refute</th>\n",
              "      <th>F1 Support</th>\n",
              "      <th>Precision Support</th>\n",
              "      <th>Recall Support</th>\n",
              "    </tr>\n",
              "  </thead>\n",
              "  <tbody>\n",
              "    <tr>\n",
              "      <td>1</td>\n",
              "      <td>1.065000</td>\n",
              "      <td>1.024755</td>\n",
              "      <td>0.385993</td>\n",
              "      <td>0.374563</td>\n",
              "      <td>0.369739</td>\n",
              "      <td>0.339844</td>\n",
              "      <td>0.765396</td>\n",
              "      <td>0.218410</td>\n",
              "      <td>0.316401</td>\n",
              "      <td>0.214990</td>\n",
              "      <td>0.598901</td>\n",
              "      <td>0.467443</td>\n",
              "      <td>0.343058</td>\n",
              "      <td>0.733333</td>\n",
              "    </tr>\n",
              "    <tr>\n",
              "      <td>2</td>\n",
              "      <td>0.952500</td>\n",
              "      <td>0.952374</td>\n",
              "      <td>0.454940</td>\n",
              "      <td>0.441546</td>\n",
              "      <td>0.461503</td>\n",
              "      <td>0.456665</td>\n",
              "      <td>0.799163</td>\n",
              "      <td>0.319665</td>\n",
              "      <td>0.350649</td>\n",
              "      <td>0.229592</td>\n",
              "      <td>0.741758</td>\n",
              "      <td>0.517325</td>\n",
              "      <td>0.413660</td>\n",
              "      <td>0.690323</td>\n",
              "    </tr>\n",
              "    <tr>\n",
              "      <td>3</td>\n",
              "      <td>0.756600</td>\n",
              "      <td>0.867263</td>\n",
              "      <td>0.601520</td>\n",
              "      <td>0.553776</td>\n",
              "      <td>0.616509</td>\n",
              "      <td>0.673664</td>\n",
              "      <td>0.783574</td>\n",
              "      <td>0.590795</td>\n",
              "      <td>0.454713</td>\n",
              "      <td>0.342618</td>\n",
              "      <td>0.675824</td>\n",
              "      <td>0.532951</td>\n",
              "      <td>0.479381</td>\n",
              "      <td>0.600000</td>\n",
              "    </tr>\n",
              "    <tr>\n",
              "      <td>4</td>\n",
              "      <td>0.705800</td>\n",
              "      <td>0.937245</td>\n",
              "      <td>0.552660</td>\n",
              "      <td>0.524415</td>\n",
              "      <td>0.568585</td>\n",
              "      <td>0.595354</td>\n",
              "      <td>0.839939</td>\n",
              "      <td>0.461088</td>\n",
              "      <td>0.419907</td>\n",
              "      <td>0.292842</td>\n",
              "      <td>0.741758</td>\n",
              "      <td>0.557983</td>\n",
              "      <td>0.457931</td>\n",
              "      <td>0.713978</td>\n",
              "    </tr>\n",
              "    <tr>\n",
              "      <td>5</td>\n",
              "      <td>0.629300</td>\n",
              "      <td>0.982647</td>\n",
              "      <td>0.607492</td>\n",
              "      <td>0.562782</td>\n",
              "      <td>0.623999</td>\n",
              "      <td>0.673601</td>\n",
              "      <td>0.825243</td>\n",
              "      <td>0.569038</td>\n",
              "      <td>0.450185</td>\n",
              "      <td>0.338889</td>\n",
              "      <td>0.670330</td>\n",
              "      <td>0.564559</td>\n",
              "      <td>0.481763</td>\n",
              "      <td>0.681720</td>\n",
              "    </tr>\n",
              "    <tr>\n",
              "      <td>6</td>\n",
              "      <td>0.588900</td>\n",
              "      <td>1.080990</td>\n",
              "      <td>0.598806</td>\n",
              "      <td>0.555081</td>\n",
              "      <td>0.616015</td>\n",
              "      <td>0.664992</td>\n",
              "      <td>0.831658</td>\n",
              "      <td>0.553975</td>\n",
              "      <td>0.441989</td>\n",
              "      <td>0.332410</td>\n",
              "      <td>0.659341</td>\n",
              "      <td>0.558261</td>\n",
              "      <td>0.468613</td>\n",
              "      <td>0.690323</td>\n",
              "    </tr>\n",
              "    <tr>\n",
              "      <td>7</td>\n",
              "      <td>0.572700</td>\n",
              "      <td>1.054861</td>\n",
              "      <td>0.593920</td>\n",
              "      <td>0.553761</td>\n",
              "      <td>0.613147</td>\n",
              "      <td>0.653628</td>\n",
              "      <td>0.848930</td>\n",
              "      <td>0.531381</td>\n",
              "      <td>0.424837</td>\n",
              "      <td>0.302326</td>\n",
              "      <td>0.714286</td>\n",
              "      <td>0.582817</td>\n",
              "      <td>0.495482</td>\n",
              "      <td>0.707527</td>\n",
              "    </tr>\n",
              "    <tr>\n",
              "      <td>8</td>\n",
              "      <td>0.492400</td>\n",
              "      <td>1.250142</td>\n",
              "      <td>0.597720</td>\n",
              "      <td>0.554127</td>\n",
              "      <td>0.615096</td>\n",
              "      <td>0.661893</td>\n",
              "      <td>0.851316</td>\n",
              "      <td>0.541423</td>\n",
              "      <td>0.435272</td>\n",
              "      <td>0.330484</td>\n",
              "      <td>0.637363</td>\n",
              "      <td>0.565217</td>\n",
              "      <td>0.462380</td>\n",
              "      <td>0.726882</td>\n",
              "    </tr>\n",
              "    <tr>\n",
              "      <td>9</td>\n",
              "      <td>0.497000</td>\n",
              "      <td>1.205431</td>\n",
              "      <td>0.614007</td>\n",
              "      <td>0.569371</td>\n",
              "      <td>0.630650</td>\n",
              "      <td>0.680702</td>\n",
              "      <td>0.848750</td>\n",
              "      <td>0.568201</td>\n",
              "      <td>0.457692</td>\n",
              "      <td>0.352071</td>\n",
              "      <td>0.653846</td>\n",
              "      <td>0.569718</td>\n",
              "      <td>0.473011</td>\n",
              "      <td>0.716129</td>\n",
              "    </tr>\n",
              "    <tr>\n",
              "      <td>10</td>\n",
              "      <td>0.438300</td>\n",
              "      <td>1.260345</td>\n",
              "      <td>0.614007</td>\n",
              "      <td>0.566832</td>\n",
              "      <td>0.630437</td>\n",
              "      <td>0.684676</td>\n",
              "      <td>0.828775</td>\n",
              "      <td>0.583264</td>\n",
              "      <td>0.456814</td>\n",
              "      <td>0.351032</td>\n",
              "      <td>0.653846</td>\n",
              "      <td>0.559006</td>\n",
              "      <td>0.475831</td>\n",
              "      <td>0.677419</td>\n",
              "    </tr>\n",
              "    <tr>\n",
              "      <td>11</td>\n",
              "      <td>0.462400</td>\n",
              "      <td>1.286778</td>\n",
              "      <td>0.606406</td>\n",
              "      <td>0.562145</td>\n",
              "      <td>0.623192</td>\n",
              "      <td>0.674000</td>\n",
              "      <td>0.837267</td>\n",
              "      <td>0.564017</td>\n",
              "      <td>0.453333</td>\n",
              "      <td>0.346939</td>\n",
              "      <td>0.653846</td>\n",
              "      <td>0.559103</td>\n",
              "      <td>0.466859</td>\n",
              "      <td>0.696774</td>\n",
              "    </tr>\n",
              "    <tr>\n",
              "      <td>12</td>\n",
              "      <td>0.456000</td>\n",
              "      <td>1.418654</td>\n",
              "      <td>0.610206</td>\n",
              "      <td>0.567861</td>\n",
              "      <td>0.626781</td>\n",
              "      <td>0.674747</td>\n",
              "      <td>0.850955</td>\n",
              "      <td>0.558996</td>\n",
              "      <td>0.460076</td>\n",
              "      <td>0.351744</td>\n",
              "      <td>0.664835</td>\n",
              "      <td>0.568761</td>\n",
              "      <td>0.469846</td>\n",
              "      <td>0.720430</td>\n",
              "    </tr>\n",
              "    <tr>\n",
              "      <td>13</td>\n",
              "      <td>0.405200</td>\n",
              "      <td>1.381633</td>\n",
              "      <td>0.612921</td>\n",
              "      <td>0.568330</td>\n",
              "      <td>0.629659</td>\n",
              "      <td>0.681570</td>\n",
              "      <td>0.838631</td>\n",
              "      <td>0.574059</td>\n",
              "      <td>0.461248</td>\n",
              "      <td>0.351585</td>\n",
              "      <td>0.670330</td>\n",
              "      <td>0.562172</td>\n",
              "      <td>0.474151</td>\n",
              "      <td>0.690323</td>\n",
              "    </tr>\n",
              "  </tbody>\n",
              "</table><p>"
            ]
          },
          "metadata": {}
        }
      ]
    },
    {
      "cell_type": "code",
      "source": [
        "\n",
        "label_names = sorted(train_df['claims_labels'].unique())\n",
        "accuracy, f1_macro, y_pred, y_true = evaluate_model(trainer, test_dataset, label_names)\n",
        "\n"
      ],
      "metadata": {
        "id": "GTRWYKJxxjwm",
        "colab": {
          "base_uri": "https://localhost:8080/",
          "height": 1000
        },
        "outputId": "cd1e8db6-3f1d-4fda-b682-5ada0a9861d6"
      },
      "execution_count": null,
      "outputs": [
        {
          "output_type": "display_data",
          "data": {
            "text/plain": [
              "<IPython.core.display.HTML object>"
            ],
            "text/html": []
          },
          "metadata": {}
        },
        {
          "output_type": "stream",
          "name": "stdout",
          "text": [
            "Test Results:\n",
            "Accuracy: 0.5954\n",
            "Macro F1-score: 0.5598\n",
            "Weighted F1-score: 0.6098\n",
            "\n",
            " Detailed Classification Report:\n",
            "                 precision    recall  f1-score   support\n",
            "\n",
            "NOT_ENOUGH_INFO     0.8453    0.5321    0.6531       996\n",
            "        REFUTES     0.3831    0.6098    0.4706       164\n",
            "       SUPPORTS     0.4389    0.7573    0.5558       375\n",
            "\n",
            "       accuracy                         0.5954      1535\n",
            "      macro avg     0.5558    0.6331    0.5598      1535\n",
            "   weighted avg     0.6966    0.5954    0.6098      1535\n",
            "\n",
            "\n",
            "Class-wise F1-scores:\n",
            "  NOT_ENOUGH_INFO: 0.6531\n",
            "  REFUTES: 0.4706\n",
            "  SUPPORTS: 0.5558\n"
          ]
        },
        {
          "output_type": "display_data",
          "data": {
            "text/plain": [
              "<Figure size 1000x800 with 2 Axes>"
            ],
            "image/png": "[encoded data removed]"
          },
          "metadata": {}
        },
        {
          "output_type": "display_data",
          "data": {
            "text/plain": [
              "<Figure size 1000x600 with 1 Axes>"
            ],
            "image/png": "[encoded data removed]"
          },
          "metadata": {}
        }
      ]
    },
    {
      "cell_type": "code",
      "source": [
        "print(f\"\\nPipeline completed!\")\n",
        "print(f\"Final Results:\")\n",
        "print(f\"   - Test accuracy: {accuracy:.4f}\")\n",
        "print(f\"   - Macro F1-score: {f1_macro:.4f}\")"
      ],
      "metadata": {
        "id": "FZWIW1Ixxoo7",
        "colab": {
          "base_uri": "https://localhost:8080/"
        },
        "outputId": "55cb0f9e-1c0b-4116-d991-3fd03f2b8034"
      },
      "execution_count": null,
      "outputs": [
        {
          "output_type": "stream",
          "name": "stdout",
          "text": [
            "\n",
            "Pipeline completed!\n",
            "Final Results:\n",
            "   - Test accuracy: 0.5954\n",
            "   - Macro F1-score: 0.5598\n"
          ]
        }
      ]
    },
    {
      "cell_type": "code",
      "source": [
        "plot_training_history(trainer)"
      ],
      "metadata": {
        "id": "xhzpCBNu4-dW",
        "colab": {
          "base_uri": "https://localhost:8080/",
          "height": 435
        },
        "outputId": "91d49d0f-b544-4504-d658-6c5cc7dcc477"
      },
      "execution_count": null,
      "outputs": [
        {
          "output_type": "display_data",
          "data": {
            "text/plain": [
              "<Figure size 1500x1000 with 4 Axes>"
            ],
            "image/png": "[encoded data removed]"
          },
          "metadata": {}
        }
      ]
    },
    {
      "cell_type": "code",
      "source": [
        "trainer.save_model(\"./final_climate_claim_classifier_v2\")\n",
        "tokenizer.save_pretrained(\"./final_climate_claim_classifier_v2\")\n"
      ],
      "metadata": {
        "id": "TtOhjXcAyB5w",
        "colab": {
          "base_uri": "https://localhost:8080/"
        },
        "outputId": "78ed204a-0af6-4b79-a0ae-08f2b88a28ac"
      },
      "execution_count": null,
      "outputs": [
        {
          "output_type": "execute_result",
          "data": {
            "text/plain": [
              "('./final_climate_claim_classifier_v2/tokenizer_config.json',\n",
              " './final_climate_claim_classifier_v2/special_tokens_map.json',\n",
              " './final_climate_claim_classifier_v2/vocab.json',\n",
              " './final_climate_claim_classifier_v2/merges.txt',\n",
              " './final_climate_claim_classifier_v2/added_tokens.json',\n",
              " './final_climate_claim_classifier_v2/tokenizer.json')"
            ]
          },
          "metadata": {},
          "execution_count": 155
        }
      ]
    },
    {
      "cell_type": "code",
      "source": [
        "# import shutil\n",
        "\n",
        "# shutil.make_archive(\"/content/final_climate_claim_classifier_v2\", 'zip', \"./final_climate_claim_classifier_v2\")\n"
      ],
      "metadata": {
        "id": "dYAqzUnc-Rqs"
      },
      "execution_count": null,
      "outputs": []
    },
    {
      "cell_type": "code",
      "source": [
        "# from google.colab import files\n",
        "# files.download('/content/final_climate_claim_classifier_v2.zip')\n"
      ],
      "metadata": {
        "id": "7jC4G_m2-UWk"
      },
      "execution_count": null,
      "outputs": []
    },
    {
      "cell_type": "markdown",
      "metadata": {
        "id": "axv0YxhtcF_5"
      },
      "source": [
        "\n",
        "\n",
        "Generating groundtruth colab: https://colab.research.google.com/drive/1bSpBF9-vLyo7Zh7q_QYV0d_GWGvipZle\n",
        "\n",
        "Pretrained ClimateBERT Full: https://huggingface.co/climatebert/distilroberta-base-climate-f\n",
        "\n",
        "Fine tuning tutorial: https://huggingface.co/docs/transformers/training\n",
        "\n",
        "Layer freezing: https://discuss.huggingface.co/t/freeze-lower-layers-with-auto-classification-model/11386\n",
        "\n",
        "F1 score?: https://torchmetrics.readthedocs.io/en/stable/classification/f1_score.html"
      ]
    }
  ],
  "metadata": {
    "accelerator": "GPU",
    "colab": {
      "provenance": []
    },
    "kernelspec": {
      "display_name": "Python 3",
      "name": "python3"
    },
    "language_info": {
      "name": "python"
    }
  },
  "nbformat": 4,
  "nbformat_minor": 0
}